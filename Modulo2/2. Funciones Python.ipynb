{
 "cells": [
  {
   "cell_type": "markdown",
   "metadata": {},
   "source": [
    "# Funciones Python"
   ]
  },
  {
   "cell_type": "markdown",
   "metadata": {},
   "source": [
    "Las funciones son fragmentos de código que se pueden ejecutar múltiples veces, además pueden recibir y devolver información para comunicarse con el proceso principal.\n",
    "\n"
   ]
  },
  {
   "cell_type": "code",
   "execution_count": 1,
   "metadata": {},
   "outputs": [],
   "source": [
    "def mi_funcion():\n",
    "    # aquí mi codigo\n",
    "    return NoImplementError"
   ]
  },
  {
   "cell_type": "markdown",
   "metadata": {},
   "source": [
    "Una función, no es ejecutada hasta tanto no sea invocada. Para invocar una función, simplemente se la llama por su nombre:"
   ]
  },
  {
   "cell_type": "code",
   "execution_count": 2,
   "metadata": {},
   "outputs": [],
   "source": [
    "# defino mi función\n",
    "def hola():\n",
    "    print(\"Hola Mundo\")"
   ]
  },
  {
   "cell_type": "code",
   "execution_count": 3,
   "metadata": {},
   "outputs": [
    {
     "name": "stdout",
     "output_type": "stream",
     "text": [
      "Hola Mundo\n"
     ]
    }
   ],
   "source": [
    "# llamo mi función\n",
    "hola()"
   ]
  },
  {
   "cell_type": "markdown",
   "metadata": {},
   "source": [
    "Cuando una función, haga un retorno de datos, éstos, pueden ser asignados a una variable:"
   ]
  },
  {
   "cell_type": "code",
   "execution_count": 4,
   "metadata": {},
   "outputs": [
    {
     "name": "stdout",
     "output_type": "stream",
     "text": [
      "Hola Mundo\n"
     ]
    }
   ],
   "source": [
    "#  Función retorna la palabra \"Hola Mundo\"\n",
    "def funcion():\n",
    "    return \"Hola Mundo\"\n",
    "\n",
    "# Almaceno el valor devuelto en una variable\n",
    "frase = funcion()\n",
    "print(frase)"
   ]
  },
  {
   "cell_type": "markdown",
   "metadata": {},
   "source": [
    "## Función con Parámetros\n",
    "-----------------------------------"
   ]
  },
  {
   "cell_type": "markdown",
   "metadata": {},
   "source": [
    "<b>Un parámetro es un valor que la función espera recibir cuando sea llamada (invocada), a fin de ejecutar acciones en base al mismo.</b> Una función puede esperar uno o más parámetros (que irán separados por una coma) o ninguno.\n"
   ]
  },
  {
   "cell_type": "code",
   "execution_count": null,
   "metadata": {},
   "outputs": [],
   "source": [
    "def mi_funcion(nombre, apellido):\n",
    "    # algoritmo \n",
    "    pass"
   ]
  },
  {
   "cell_type": "markdown",
   "metadata": {},
   "source": [
    "Los parámetros que una función espera, serán utilizados por ésta, dentro de su algoritmo, a modo de variables de <b>ámbito local</b>. Es decir, que los parámetros serán variables locales, a las cuáles solo la función podrá acceder:\n"
   ]
  },
  {
   "cell_type": "code",
   "execution_count": null,
   "metadata": {},
   "outputs": [],
   "source": [
    "# Ejemplo función con parámetros\n",
    "def mi_funcion(nombre, apellido,dni):\n",
    "    nombre_completo = f'{apellido}-{nombre}-{dni}'\n",
    "    print(nombre_completo)"
   ]
  },
  {
   "cell_type": "code",
   "execution_count": null,
   "metadata": {},
   "outputs": [],
   "source": [
    "mi_funcion('gonzalo','delgado')"
   ]
  },
  {
   "cell_type": "code",
   "execution_count": null,
   "metadata": {},
   "outputs": [],
   "source": [
    "mi_funcion()"
   ]
  },
  {
   "cell_type": "code",
   "execution_count": 5,
   "metadata": {},
   "outputs": [],
   "source": [
    "# Ejemplo 2\n",
    "def suma(numero1, numero2):  # valores que se reciben\n",
    "    return numero1 + numero2\n",
    "\n",
    "a=suma(1,2)\n",
    "b=suma(2,3)"
   ]
  },
  {
   "cell_type": "code",
   "execution_count": null,
   "metadata": {},
   "outputs": [],
   "source": [
    "a = 5\n",
    "b = 6\n",
    "\n",
    "resultado = suma(a, b)  # valores que se envían\n",
    "print(resultado)"
   ]
  },
  {
   "cell_type": "markdown",
   "metadata": {},
   "source": [
    "Cuando pasamos parámetros a nuestra función, esta entiende cada valor por la posición en que se ha descrito en la función"
   ]
  },
  {
   "cell_type": "code",
   "execution_count": 6,
   "metadata": {},
   "outputs": [
    {
     "data": {
      "text/plain": [
       "-20"
      ]
     },
     "execution_count": 6,
     "metadata": {},
     "output_type": "execute_result"
    }
   ],
   "source": [
    "# Ejemplo3\n",
    "def resta(a, b):\n",
    "    return a - b\n",
    "\n",
    "# argumento 30 => posición 0 => parámetro a\n",
    "# argumento 10 => posición 1 => parámetro b\n",
    "resta(10, 30)"
   ]
  },
  {
   "cell_type": "code",
   "execution_count": 7,
   "metadata": {},
   "outputs": [
    {
     "data": {
      "text/plain": [
       "20"
      ]
     },
     "execution_count": 7,
     "metadata": {},
     "output_type": "execute_result"
    }
   ],
   "source": [
    "resta(30, 10)"
   ]
  },
  {
   "cell_type": "markdown",
   "metadata": {},
   "source": [
    "Una forma de cambiar el orden en como entiende la función en que orden queremos pasar los parámetros es la siguiente:"
   ]
  },
  {
   "cell_type": "code",
   "execution_count": 8,
   "metadata": {},
   "outputs": [
    {
     "name": "stdout",
     "output_type": "stream",
     "text": [
      "90\n"
     ]
    },
    {
     "data": {
      "text/plain": [
       "-90"
      ]
     },
     "execution_count": 8,
     "metadata": {},
     "output_type": "execute_result"
    }
   ],
   "source": [
    "print(resta(100,10))\n",
    "resta(b=100, a=10)"
   ]
  },
  {
   "cell_type": "code",
   "execution_count": 9,
   "metadata": {},
   "outputs": [
    {
     "ename": "TypeError",
     "evalue": "resta() missing 1 required positional argument: 'a'",
     "output_type": "error",
     "traceback": [
      "\u001b[0;31m---------------------------------------------------------------------------\u001b[0m",
      "\u001b[0;31mTypeError\u001b[0m                                 Traceback (most recent call last)",
      "Cell \u001b[0;32mIn[9], line 1\u001b[0m\n\u001b[0;32m----> 1\u001b[0m \u001b[43mresta\u001b[49m\u001b[43m(\u001b[49m\u001b[43mb\u001b[49m\u001b[38;5;241;43m=\u001b[39;49m\u001b[38;5;241;43m100\u001b[39;49m\u001b[43m)\u001b[49m\n",
      "\u001b[0;31mTypeError\u001b[0m: resta() missing 1 required positional argument: 'a'"
     ]
    }
   ],
   "source": [
    "resta(b=100)"
   ]
  },
  {
   "cell_type": "markdown",
   "metadata": {},
   "source": [
    "## Valores por Defecto"
   ]
  },
  {
   "cell_type": "markdown",
   "metadata": {},
   "source": [
    "Es posible colocar valores por defecto en nuestras funciones, asi si no se pasa un parámetro, nuestra función seguira funcionando"
   ]
  },
  {
   "cell_type": "code",
   "execution_count": 10,
   "metadata": {},
   "outputs": [
    {
     "name": "stdout",
     "output_type": "stream",
     "text": [
      "92\n",
      "180.0 => 300.0\n"
     ]
    }
   ],
   "source": [
    "def bar(x=2):\n",
    "    return x + 90\n",
    "\n",
    "# my_var = 3\n",
    "print(bar())\n",
    "\n",
    "\n",
    "def getIgv(monto, x=18):\n",
    "    return (monto*x)/100\n",
    "\n",
    "igvCompra= getIgv(1000)\n",
    "igvPremio= getIgv(1000,x=30)\n",
    "\n",
    "print(igvCompra,'=>',igvPremio)\n"
   ]
  },
  {
   "cell_type": "code",
   "execution_count": null,
   "metadata": {},
   "outputs": [],
   "source": [
    "# pasando un valor a mi funcion\n",
    "print(bar(6))"
   ]
  },
  {
   "cell_type": "markdown",
   "metadata": {},
   "source": [
    "## Desempaquetado de datos"
   ]
  },
  {
   "cell_type": "markdown",
   "metadata": {},
   "source": [
    "Muchas veces se utilizan listas , tuplas o diccionarios para contener diversa cantidad de datos. En ese sentido, es posible desempaquetar los valores contenidos en este tipo de datos para que puedan ser leidos por la funcion"
   ]
  },
  {
   "cell_type": "markdown",
   "metadata": {},
   "source": [
    "### Args"
   ]
  },
  {
   "cell_type": "markdown",
   "metadata": {},
   "source": [
    "Cuando no se sabe la cantidad de valores"
   ]
  },
  {
   "cell_type": "code",
   "execution_count": null,
   "metadata": {},
   "outputs": [],
   "source": [
    "def indeterminados_posicion(*args):\n",
    "    for arg in args:\n",
    "        print(arg)\n",
    "\n",
    "indeterminados_posicion(5,\"Hola\",[1,2,3,4,5],{'dia':'sabado'})"
   ]
  },
  {
   "cell_type": "markdown",
   "metadata": {},
   "source": [
    "Cuando se tiene los valores en lista"
   ]
  },
  {
   "cell_type": "code",
   "execution_count": null,
   "metadata": {},
   "outputs": [],
   "source": [
    "# valores a ser sumados se encuentran en una lista\n",
    "def sumar(a,b):\n",
    "    return a+b\n",
    "\n",
    "# lista con valores a ser sumados\n",
    "numeros_sumar=[23,11]\n",
    "\n",
    "print(sumar(*numeros_sumar))\n",
    "\n",
    "sumar(numeros_sumar[0],numeros_sumar[1])\n"
   ]
  },
  {
   "cell_type": "code",
   "execution_count": null,
   "metadata": {},
   "outputs": [],
   "source": []
  },
  {
   "cell_type": "markdown",
   "metadata": {},
   "source": [
    "### kwargs"
   ]
  },
  {
   "cell_type": "markdown",
   "metadata": {},
   "source": [
    "Cuando no se sabe la cantidad de valores"
   ]
  },
  {
   "cell_type": "code",
   "execution_count": null,
   "metadata": {},
   "outputs": [],
   "source": [
    "def indeterminados_nombre(**kwargs):\n",
    "    for kwarg in kwargs:\n",
    "        print(kwarg, \"=>\", kwargs[kwarg])\n",
    "\n",
    "indeterminados_nombre(n=5, c=\"Hola\", l=[1,2,3,4,5])   "
   ]
  },
  {
   "cell_type": "markdown",
   "metadata": {},
   "source": [
    "Valores contenidos en diccionario"
   ]
  },
  {
   "cell_type": "code",
   "execution_count": null,
   "metadata": {},
   "outputs": [],
   "source": [
    "def calcular(importe, descuento):\n",
    "    return importe * (1 - descuento / 100) \n",
    "\n",
    "datos = {\n",
    "    \"descuento\": 10, \n",
    "    \"importe\": 1500\n",
    "        }\n",
    "\n",
    "print(calcular(**datos))"
   ]
  },
  {
   "cell_type": "code",
   "execution_count": null,
   "metadata": {},
   "outputs": [],
   "source": [
    "calcular(datos['importe'], datos['descuento'])"
   ]
  },
  {
   "cell_type": "markdown",
   "metadata": {},
   "source": [
    "Combinando ambos conceptos"
   ]
  },
  {
   "cell_type": "code",
   "execution_count": null,
   "metadata": {},
   "outputs": [],
   "source": [
    "def super_funcion(*args,**kwargs):\n",
    "    total = 0\n",
    "    for arg in args:\n",
    "        total += arg\n",
    "    print(\"sumatorio => \", total)\n",
    "    \n",
    "    for kwarg in kwargs:\n",
    "        print(kwarg, \"=>\", kwargs[kwarg])\n",
    "\n",
    "super_funcion(10, 50, -1, 1.56, 10, 20, 300,*[20,30], nombre=\"Hector\", edad=27,**{'sueldo':1200})"
   ]
  },
  {
   "cell_type": "code",
   "execution_count": null,
   "metadata": {},
   "outputs": [],
   "source": []
  },
  {
   "cell_type": "code",
   "execution_count": null,
   "metadata": {},
   "outputs": [],
   "source": [
    "datos_persona ={\n",
    "    'nombre':'Gonzalo',\n",
    "    'edad': 26\n",
    "}\n",
    "\n",
    "\"Hola {nombre}, tu edad es {edad}\".format(**datos_persona)"
   ]
  },
  {
   "cell_type": "code",
   "execution_count": null,
   "metadata": {},
   "outputs": [],
   "source": [
    "datos_lista =['Gonzalo', 26]\n",
    "\n",
    "\"Hola {0}, tu edad es {1}\".format(*datos_lista)\n"
   ]
  },
  {
   "cell_type": "markdown",
   "metadata": {},
   "source": [
    "## Paso por valor y referencia\n",
    "-----------------------------------"
   ]
  },
  {
   "cell_type": "markdown",
   "metadata": {},
   "source": [
    "Dependiendo del tipo de dato que enviemos a la función, podemos diferenciar dos comportamientos:\n",
    "\n",
    "- <b>Paso por valor:</b> Se crea una copia local de la variable dentro de la función.\n",
    "- <b>Paso por referencia:</b> Se maneja directamente la variable, los cambios realizados dentro de la función le afectarán también fuera.\n",
    "\n",
    "Tradicionalmente:\n",
    "- <b>Los tipos simples se pasan por valor (Inmutables)</b>: Enteros, flotantes, cadenas, lógicos...\n",
    "- <b>Los tipos compuestos se pasan por referencia (Mutables)</b>: Listas, diccionarios, conjuntos..."
   ]
  },
  {
   "cell_type": "markdown",
   "metadata": {},
   "source": [
    "<center><img src='./img/tipo_dato.PNG' width=\"500\" height=\"500\"></center>"
   ]
  },
  {
   "cell_type": "markdown",
   "metadata": {},
   "source": [
    "## Ámbito de variables en funciones\n",
    "-----------------------------------"
   ]
  },
  {
   "cell_type": "markdown",
   "metadata": {},
   "source": [
    "<center><img src='./img/ambito.PNG'></center>"
   ]
  },
  {
   "cell_type": "markdown",
   "metadata": {},
   "source": [
    "#### Ejemplo"
   ]
  },
  {
   "cell_type": "code",
   "execution_count": null,
   "metadata": {},
   "outputs": [],
   "source": [
    "# valor de variable global 'x' se mantiene\n",
    "x = 7 \n",
    "\n",
    "def foo():   \n",
    "    x = 42\n",
    "    print(x)\n",
    "\n",
    "    \n",
    "#  llamo a la funcion\n",
    "foo()\n",
    "print(x)"
   ]
  },
  {
   "cell_type": "code",
   "execution_count": null,
   "metadata": {},
   "outputs": [],
   "source": [
    "# Global indica que se va a trabar con variable global por lo que cuando redefinimos a la variable, \n",
    "# se cambia el valor global de esta\n",
    " \n",
    "def foo():\n",
    "    global x\n",
    "    x = 42 # reasignacion total x\n",
    "    print('valor de x final', x)\n",
    "    return x\n",
    "    \n",
    "# llamo a la funcion\n",
    "\n",
    "x = 7\n",
    "foo()\n",
    "print(x)"
   ]
  },
  {
   "cell_type": "markdown",
   "metadata": {},
   "source": [
    "## Función Recursivas\n",
    "-----------------------------------"
   ]
  },
  {
   "cell_type": "markdown",
   "metadata": {},
   "source": [
    "Se trata de funciones que se llaman a sí mismas durante su propia ejecución. Funcionan de forma similar a las iteraciones, pero debemos encargarnos de planificar el momento en que dejan de llamarse a sí mismas o tendremos una función rescursiva infinita.\n",
    "\n",
    "Suele utilizarse para dividir una tarea en subtareas más simples de forma que sea más fácil abordar el problema y solucionarlo."
   ]
  },
  {
   "cell_type": "code",
   "execution_count": 11,
   "metadata": {},
   "outputs": [],
   "source": [
    "def jugar(intento : int =1 ):\n",
    "    #intento 1\n",
    "    respuesta = input(\"¿De qué color es una naranja? \")\n",
    "    if respuesta.lower() != \"naranja\":\n",
    "        if intento < 3:\n",
    "            print(\"\\nFallaste! Inténtalo de nuevo\")             \n",
    "            #intento=2\n",
    "            \n",
    "            #intento=3\n",
    "            intento += 1 \n",
    "            jugar(intento)  # Llamada recursiva         \n",
    "        else:\n",
    "            print(\"\\nPerdiste!\")     \n",
    "    else:\n",
    "        print(\"\\nGanaste!\")"
   ]
  },
  {
   "cell_type": "code",
   "execution_count": 12,
   "metadata": {},
   "outputs": [
    {
     "name": "stdout",
     "output_type": "stream",
     "text": [
      "\n",
      "Fallaste! Inténtalo de nuevo\n",
      "\n",
      "Fallaste! Inténtalo de nuevo\n",
      "\n",
      "Ganaste!\n"
     ]
    }
   ],
   "source": [
    "jugar()"
   ]
  },
  {
   "cell_type": "markdown",
   "metadata": {},
   "source": [
    "# Ejercicios"
   ]
  },
  {
   "cell_type": "markdown",
   "metadata": {},
   "source": [
    "### 1.\n",
    "Realiza una función que indique si un número pasado por parámetro es par o impar."
   ]
  },
  {
   "cell_type": "code",
   "execution_count": 3,
   "metadata": {},
   "outputs": [
    {
     "data": {
      "text/plain": [
       "5"
      ]
     },
     "execution_count": 3,
     "metadata": {},
     "output_type": "execute_result"
    }
   ],
   "source": [
    "numero = int(input(\"Ingrese un número: \"))\n",
    "\n",
    "numero\n"
   ]
  },
  {
   "cell_type": "code",
   "execution_count": 4,
   "metadata": {},
   "outputs": [
    {
     "name": "stdout",
     "output_type": "stream",
     "text": [
      "El numero es impar\n"
     ]
    }
   ],
   "source": [
    "def verificar_numero_par(n):\n",
    "    \n",
    "    if n%2==0:\n",
    "        print('EL numero es par')\n",
    "    else:\n",
    "        print('El numero es impar')\n",
    "        \n",
    "verificar_numero_par(numero)"
   ]
  },
  {
   "cell_type": "markdown",
   "metadata": {},
   "source": [
    "### 2.\n",
    "Realiza una función llamada area_rectangulo(base, altura) que devuelva el área del rectangulo a partir de una base y una altura. Calcula el área de un rectángulo de 15 de base y 10 de altura:\n",
    "\n"
   ]
  },
  {
   "cell_type": "code",
   "execution_count": 2,
   "metadata": {},
   "outputs": [
    {
     "name": "stdout",
     "output_type": "stream",
     "text": [
      "El área del triángulo es: 60.0\n"
     ]
    }
   ],
   "source": [
    "\n",
    "def calcular_area_triangulo(b, h):\n",
    "    area_triangulo = b * h / 2\n",
    "    return area_triangulo\n",
    "\n",
    "\n",
    "base = int(input(\"Ingrese la base: \"))\n",
    "altura = int(input(\"Ingrese la altura: \"))\n",
    "\n",
    "\n",
    "area_triangulo = calcular_area_triangulo(base, altura)\n",
    "\n",
    "print(f\"El área del triángulo es: {area_triangulo}\")"
   ]
  },
  {
   "cell_type": "markdown",
   "metadata": {},
   "source": [
    "### 3.\n",
    "Escribe un programa que identifique si un número es primo o no lo es:\n"
   ]
  },
  {
   "cell_type": "code",
   "execution_count": 7,
   "metadata": {},
   "outputs": [
    {
     "name": "stdout",
     "output_type": "stream",
     "text": [
      "17 es primo\n"
     ]
    }
   ],
   "source": [
    "numero = 17\n",
    "\n",
    "es_primo = True\n",
    "for i in range(2, numero):\n",
    "    \n",
    "    if numero % i == 0:\n",
    "        es_primo = False\n",
    "        break\n",
    "    \n",
    "if es_primo:\n",
    "    print(f\"{numero} es primo\")\n",
    "else:\n",
    "    print(f\"{numero} no es primo\")"
   ]
  },
  {
   "cell_type": "code",
   "execution_count": 8,
   "metadata": {},
   "outputs": [
    {
     "name": "stdout",
     "output_type": "stream",
     "text": [
      "17 es primo\n"
     ]
    }
   ],
   "source": [
    "def validar_numero_primo(numero):\n",
    "    for i in range(2, numero):\n",
    "        if numero % i == 0:\n",
    "            return False\n",
    "    return True\n",
    "\n",
    "numero = 17\n",
    "if validar_numero_primo(numero):\n",
    "    print(f\"{numero} es primo\")\n",
    "else:\n",
    "    print(f\"{numero} no es primo\")"
   ]
  },
  {
   "cell_type": "markdown",
   "metadata": {},
   "source": [
    "### 3.\n",
    "Escribe un programa que encuentre la suma de todos los números primos menores que 100.\n"
   ]
  },
  {
   "cell_type": "code",
   "execution_count": null,
   "metadata": {},
   "outputs": [],
   "source": []
  },
  {
   "cell_type": "markdown",
   "metadata": {},
   "source": [
    "### 4.\n",
    "El factorial de un número corresponde al producto de todos los números desde 1 hasta el propio número. Es el ejemplo con retorno más utilizado para mostrar la utilidad de este tipo de funciones:\n",
    "\n",
    "- 3! = 1 x 2 x 3 = 6\n",
    "- 5! = 1 x 2 x 3 x 4 x 5 = 120"
   ]
  },
  {
   "cell_type": "code",
   "execution_count": 13,
   "metadata": {},
   "outputs": [
    {
     "data": {
      "text/plain": [
       "5"
      ]
     },
     "execution_count": 13,
     "metadata": {},
     "output_type": "execute_result"
    }
   ],
   "source": [
    "numero = int(input(\"Ingrese un número: \"))\n",
    "numero"
   ]
  },
  {
   "cell_type": "code",
   "execution_count": 17,
   "metadata": {},
   "outputs": [],
   "source": [
    "def factorial_recursivo(numero):\n",
    "    if numero == 0 or numero==1:\n",
    "        return 1\n",
    "    return numero * factorial_recursivo(numero-1)\n"
   ]
  },
  {
   "cell_type": "code",
   "execution_count": 18,
   "metadata": {},
   "outputs": [
    {
     "data": {
      "text/plain": [
       "120"
      ]
     },
     "execution_count": 18,
     "metadata": {},
     "output_type": "execute_result"
    }
   ],
   "source": [
    "factorial_recursivo(5)"
   ]
  },
  {
   "cell_type": "code",
   "execution_count": 15,
   "metadata": {},
   "outputs": [],
   "source": [
    "# con funciones\n",
    "def calcular_factorial(numero):\n",
    "    factorial = 1\n",
    "    for i in range(1, numero + 1):\n",
    "        factorial *= i\n",
    "    return factorial"
   ]
  },
  {
   "cell_type": "code",
   "execution_count": 16,
   "metadata": {},
   "outputs": [
    {
     "data": {
      "text/plain": [
       "120"
      ]
     },
     "execution_count": 16,
     "metadata": {},
     "output_type": "execute_result"
    }
   ],
   "source": [
    "factorial = calcular_factorial(numero)\n",
    "factorial"
   ]
  },
  {
   "cell_type": "code",
   "execution_count": 14,
   "metadata": {},
   "outputs": [
    {
     "name": "stdout",
     "output_type": "stream",
     "text": [
      "El factorial de 5 es 120\n"
     ]
    }
   ],
   "source": [
    "# Sin funciones\n",
    "\n",
    "\n",
    "factorial = 1\n",
    "\n",
    "for i in range(1, numero + 1):\n",
    "    factorial = factorial * i\n",
    "\n",
    "print(f\"El factorial de {numero} es {factorial}\")\n"
   ]
  },
  {
   "cell_type": "markdown",
   "metadata": {},
   "source": [
    "### 5.\n",
    "Sumar los números números naturales hasta N (se lo damos nosotros) de forma recursiva.\n",
    "\n"
   ]
  },
  {
   "cell_type": "code",
   "execution_count": 19,
   "metadata": {},
   "outputs": [
    {
     "name": "stdout",
     "output_type": "stream",
     "text": [
      "6\n"
     ]
    }
   ],
   "source": [
    "def suma_recursiva(numero):\n",
    "    if numero== 0:\n",
    "        return 0\n",
    "    return suma_recursiva(numero-1)+numero\n",
    "\n",
    "\n",
    "numero = 3\n",
    "print(suma_recursiva(numero))"
   ]
  },
  {
   "cell_type": "markdown",
   "metadata": {},
   "source": [
    "### 6.\n",
    "Implemente un algoritmo, usando una función recursiva, que resuelva la siguiente\n",
    "sumatoria:\n",
    "\n",
    "K(n, p) = p + 2 ∗ p + 3 ∗ p + 4 ∗ p + … + n ∗ p\n",
    "\n",
    "- El programa debe pedir al usuario que ingrese un número n, y un número d,\n",
    "- Luego debe calcular el valor de K(n, p) usando una función recursiva,\n",
    "- Debe imprimir el resultado de K(n, p)\n",
    "\n",
    "Algunos ejemplos de diálogo de este programa serían:\n",
    "\n",
    "- input n: 5\n",
    "- input p: 2\n",
    "- ouput: 30"
   ]
  },
  {
   "cell_type": "code",
   "execution_count": null,
   "metadata": {},
   "outputs": [],
   "source": []
  },
  {
   "cell_type": "markdown",
   "metadata": {},
   "source": [
    "### 7.\n",
    "Escribir una función que, dado un número de DNI, retorne True si el número es válido y False si no lo es. Para que un número de DNI sea válido debe tener entre 7 y 8 dígitos."
   ]
  },
  {
   "cell_type": "code",
   "execution_count": null,
   "metadata": {},
   "outputs": [],
   "source": []
  },
  {
   "cell_type": "markdown",
   "metadata": {},
   "source": [
    "8. Escribe un programa que encuentre todos los números perfectos menores que 1000. Un número perfecto es un número entero positivo que es igual a la suma de sus divisores propios positivos (excluyendo el propio número)."
   ]
  },
  {
   "cell_type": "markdown",
   "metadata": {},
   "source": []
  }
 ],
 "metadata": {
  "kernelspec": {
   "display_name": "Python 3 (ipykernel)",
   "language": "python",
   "name": "python3"
  },
  "language_info": {
   "codemirror_mode": {
    "name": "ipython",
    "version": 3
   },
   "file_extension": ".py",
   "mimetype": "text/x-python",
   "name": "python",
   "nbconvert_exporter": "python",
   "pygments_lexer": "ipython3",
   "version": "3.9.19"
  }
 },
 "nbformat": 4,
 "nbformat_minor": 4
}
